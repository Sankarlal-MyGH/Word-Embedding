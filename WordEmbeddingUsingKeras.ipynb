{
  "nbformat": 4,
  "nbformat_minor": 0,
  "metadata": {
    "colab": {
      "name": "WordEmbeddingUsingKeras.ipynb",
      "provenance": [],
      "collapsed_sections": [],
      "authorship_tag": "ABX9TyPWhXTFqJfTGhyHNKi5hLNg",
      "include_colab_link": true
    },
    "kernelspec": {
      "name": "python3",
      "display_name": "Python 3"
    },
    "language_info": {
      "name": "python"
    }
  },
  "cells": [
    {
      "cell_type": "markdown",
      "metadata": {
        "id": "view-in-github",
        "colab_type": "text"
      },
      "source": [
        "<a href=\"https://colab.research.google.com/github/Sankarlal-MyGH/Word-Embedding/blob/main/WordEmbeddingUsingKeras.ipynb\" target=\"_parent\"><img src=\"https://colab.research.google.com/assets/colab-badge.svg\" alt=\"Open In Colab\"/></a>"
      ]
    },
    {
      "cell_type": "code",
      "metadata": {
        "id": "-Up5ZDvIkY-9"
      },
      "source": [
        "from tensorflow.keras.preprocessing.text import one_hot"
      ],
      "execution_count": 1,
      "outputs": []
    },
    {
      "cell_type": "code",
      "metadata": {
        "id": "EmiLD6F9mCir"
      },
      "source": [
        "### sentences\n",
        "sent=[  'the glass of milk',\n",
        "     'the glass of juice',\n",
        "     'the cup of tea',\n",
        "    'I am a good boy',\n",
        "     'I am a good developer',\n",
        "     'understand the meaning of words',\n",
        "     'your videos are good',]"
      ],
      "execution_count": 2,
      "outputs": []
    },
    {
      "cell_type": "code",
      "metadata": {
        "id": "ucO9zhcmnYVW"
      },
      "source": [
        "#vocalbulary size\n",
        "voc_size = 100"
      ],
      "execution_count": 4,
      "outputs": []
    },
    {
      "cell_type": "code",
      "metadata": {
        "id": "N-kqWqrJofRm"
      },
      "source": [
        "One_hot_rep = [one_hot(words,voc_size)for words in sent]"
      ],
      "execution_count": 5,
      "outputs": []
    },
    {
      "cell_type": "code",
      "metadata": {
        "colab": {
          "base_uri": "https://localhost:8080/"
        },
        "id": "D92Mu5AOoppg",
        "outputId": "0b1ca98d-1e05-440a-efe5-ca168ca4fa28"
      },
      "source": [
        "One_hot_rep"
      ],
      "execution_count": 6,
      "outputs": [
        {
          "output_type": "execute_result",
          "data": {
            "text/plain": [
              "[[97, 14, 73, 55],\n",
              " [97, 14, 73, 7],\n",
              " [97, 81, 73, 9],\n",
              " [6, 22, 57, 48, 51],\n",
              " [6, 22, 57, 48, 30],\n",
              " [13, 97, 44, 73, 83],\n",
              " [19, 61, 8, 48]]"
            ]
          },
          "metadata": {},
          "execution_count": 6
        }
      ]
    },
    {
      "cell_type": "code",
      "metadata": {
        "id": "NVjG2D8soqhf"
      },
      "source": [
        "#import tensorflow libraries\n",
        "from tensorflow.keras.layers import Embedding\n",
        "from tensorflow.keras.preprocessing.sequence import pad_sequences\n",
        "from tensorflow.keras.models import Sequential"
      ],
      "execution_count": 7,
      "outputs": []
    },
    {
      "cell_type": "code",
      "metadata": {
        "id": "7UDMwr0PqZ10"
      },
      "source": [
        "import numpy as np"
      ],
      "execution_count": 8,
      "outputs": []
    },
    {
      "cell_type": "code",
      "metadata": {
        "id": "p2diL5E2ql96"
      },
      "source": [
        "#Initialize the length of the padded matrix\n",
        "sent_length = 8"
      ],
      "execution_count": 9,
      "outputs": []
    },
    {
      "cell_type": "code",
      "metadata": {
        "colab": {
          "base_uri": "https://localhost:8080/"
        },
        "id": "raaekKe0s8fK",
        "outputId": "301bfa38-d34c-4f89-d6ed-626e3eb9ac26"
      },
      "source": [
        "embedded_docs = pad_sequences(One_hot_rep,maxlen=sent_length,padding='pre')\n",
        "print(embedded_docs)"
      ],
      "execution_count": 12,
      "outputs": [
        {
          "output_type": "stream",
          "name": "stdout",
          "text": [
            "[[ 0  0  0  0 97 14 73 55]\n",
            " [ 0  0  0  0 97 14 73  7]\n",
            " [ 0  0  0  0 97 81 73  9]\n",
            " [ 0  0  0  6 22 57 48 51]\n",
            " [ 0  0  0  6 22 57 48 30]\n",
            " [ 0  0  0 13 97 44 73 83]\n",
            " [ 0  0  0  0 19 61  8 48]]\n"
          ]
        }
      ]
    },
    {
      "cell_type": "code",
      "metadata": {
        "id": "DtGLPanutYq8"
      },
      "source": [
        "#Declare the dimensions/features for the word embedding matrix\n",
        "dim=15"
      ],
      "execution_count": 14,
      "outputs": []
    },
    {
      "cell_type": "code",
      "metadata": {
        "id": "whIWV6HitmOY"
      },
      "source": [
        ""
      ],
      "execution_count": null,
      "outputs": []
    }
  ]
}